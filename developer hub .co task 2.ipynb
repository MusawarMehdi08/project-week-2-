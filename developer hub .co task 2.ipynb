{
  "nbformat": 4,
  "nbformat_minor": 0,
  "metadata": {
    "colab": {
      "private_outputs": true,
      "provenance": []
    },
    "kernelspec": {
      "name": "python3",
      "display_name": "Python 3"
    },
    "language_info": {
      "name": "python"
    }
  },
  "cells": [
    {
      "cell_type": "code",
      "execution_count": null,
      "metadata": {
        "id": "5kzEI5nwNeAc"
      },
      "outputs": [],
      "source": [
        "import pandas as pd\n",
        "import numpy as np\n",
        "import tensorflow as tf\n",
        "print(tf.__version__)"
      ]
    },
    {
      "cell_type": "code",
      "source": [
        "import pandas as pd\n",
        "data=pd.read_excel(r\"/content/AirQualityUCI.xlsx\")\n",
        "print(data.isnull().sum())\n",
        "data = data.fillna(method='ffill')\n",
        "data = data.fillna(method='bfill')"
      ],
      "metadata": {
        "id": "13kLmllqNv4E"
      },
      "execution_count": null,
      "outputs": []
    },
    {
      "cell_type": "code",
      "source": [
        "import matplotlib.pyplot as plt\n",
        "import seaborn as sns\n",
        "plt.figure(figsize=(12, 6))\n",
        "data['NOx(GT)'].plot(title='AQI Over Time', ylabel='NOx(GT)')\n",
        "from statsmodels.tsa.seasonal import seasonal_decompose\n",
        "plt.show()"
      ],
      "metadata": {
        "id": "COhnM4uwOI8o"
      },
      "execution_count": null,
      "outputs": []
    },
    {
      "cell_type": "code",
      "source": [
        "data[\"year\"]=data[\"Date\"].dt.year\n",
        "data[\"month\"]=data[\"Date\"].dt.month\n",
        "data[\"day\"]=data[\"Date\"].dt.dayofweek\n",
        "data[\"quarter\"]=data[\"Date\"].dt.quarter\n",
        "data.head(5)"
      ],
      "metadata": {
        "id": "w-E2Wvu0Oitv"
      },
      "execution_count": null,
      "outputs": []
    },
    {
      "cell_type": "code",
      "source": [
        "data[\"NO2(GT)average\"]=data[\"NO2(GT)\"].rolling(window=24).mean()\n",
        "data[\"NO2(GT)median\"]=data[\"NO2(GT)\"].rolling(window=24).median()\n",
        "data[\"NO2(GT)sum\"]=data[\"NO2(GT)\"].rolling(window=24).sum()\n",
        "data[\"NO2(GT)lag\"]=data[\"NO2(GT)\"].shift(24)#lag\n",
        "data = data.dropna()\n",
        "data.head(2)"
      ],
      "metadata": {
        "id": "rIT2rxzFOz_e"
      },
      "execution_count": null,
      "outputs": []
    },
    {
      "cell_type": "code",
      "source": [
        "# for features\n",
        "X = data.drop(columns=['NO2(GT)'])\n",
        "\n",
        "if 'timestamp' in X.columns:\n",
        "    X['hour'] = X['timestamp'].dt.hour\n",
        "    X['day'] = X['timestamp'].dt.day\n",
        "    X['month'] = X['timestamp'].dt.month\n",
        "    X = X.drop(columns=['timestamp'])\n",
        "\n",
        "\n",
        "X = X.select_dtypes(include=['number'])\n",
        "\n",
        "# Split train test split\n",
        "y = data['NO2(GT)']\n",
        "X_train, X_test, y_train, y_test = train_test_split(X, y, test_size=0.2, shuffle=False)\n",
        "X_train_lstm = np.expand_dims(X_train.values, axis=-1).astype('float32')\n",
        "X_test_lstm = np.expand_dims(X_test.values, axis=-1).astype('float32')\n",
        "\n",
        "# Convert label col to float32\n",
        "y_train = y_train.values.astype('float32')\n",
        "y_test = y_test.values.astype('float32')\n",
        "seq = Sequential([LSTM(50, activation='relu', input_shape=(X_train_lstm.shape[1], X_train_lstm.shape[2])), Dense(1)\n",
        "])\n",
        "seq.compile(optimizer='adam', loss='mse')\n",
        "seq.fit(X_train_lstm, y_train, epochs=20, batch_size=32, validation_data=(X_test_lstm, y_test))\n",
        "\n",
        "# ARIMA model for comparison\n",
        "from statsmodels.tsa.arima.model import ARIMA\n",
        "arima_model = ARIMA(y_train, order=(5, 1, 0)).fit()\n"
      ],
      "metadata": {
        "id": "a8bki5JHRXom"
      },
      "execution_count": null,
      "outputs": []
    },
    {
      "cell_type": "markdown",
      "source": [],
      "metadata": {
        "id": "YOMPFyifW4lF"
      }
    },
    {
      "cell_type": "code",
      "source": [
        "# Ensure y_test retains its original index\n",
        "y = data['NO2(GT)']\n",
        "X_train, X_test, y_train, y_test = train_test_split(X, y, test_size=0.2, shuffle=False)\n",
        "# LSTM predictions\n",
        "lstm_preds = model.predict(X_test_lstm).flatten()\n",
        "arima_preds = arima_model.forecast(steps=len(y_test))\n",
        "# Plot actual vs. predicted\n",
        "plt.figure(figsize=(12, 8))\n",
        "plt.plot(y_test.index, y_test, label='Actual AQI', color='blue')\n",
        "plt.plot(y_test.index, lstm_preds, label='LSTM Predictions', color='orange')\n",
        "plt.plot(y_test.index, arima_preds, label='ARIMA Predictions', color='green')\n",
        "plt.legend()\n",
        "plt.title(\"Actual vs Predicted AQI\")\n",
        "plt.xlabel(\"Time\")\n",
        "plt.ylabel(\"AQI\")\n",
        "plt.show()\n"
      ],
      "metadata": {
        "id": "9WycvukxSJX_"
      },
      "execution_count": null,
      "outputs": []
    },
    {
      "cell_type": "markdown",
      "source": [],
      "metadata": {
        "id": "Z67jjuf8XAhG"
      }
    },
    {
      "cell_type": "code",
      "source": [
        "from sklearn.metrics import mean_squared_error, mean_absolute_error\n",
        "\n",
        "ls_rmse = np.sqrt(mean_squared_error(y_test, lstm_preds))\n",
        "ls_mae = mean_absolute_error(y_test, lstm_preds)\n",
        "print(f\"LSTM - RMSE: {ls_rmse}, MAE: {ls_mae}\")\n",
        "\n",
        "ar_rmse = np.sqrt(mean_squared_error(y_test, arima_preds))\n",
        "ar_mae = mean_absolute_error(y_test, arima_preds)\n",
        "print(f\"ARIMA - RMSE: {ar_rmse}, MAE: {ar_rmse}\")"
      ],
      "metadata": {
        "id": "Ez9zZmBITijG"
      },
      "execution_count": null,
      "outputs": []
    }
  ]
}